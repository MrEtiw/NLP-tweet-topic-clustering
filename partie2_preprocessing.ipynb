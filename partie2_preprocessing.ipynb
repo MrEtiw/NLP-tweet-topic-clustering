{
 "cells": [
  {
   "cell_type": "markdown",
   "metadata": {},
   "source": [
    "Ce notebook est pour répondre à la partie 2 du tp2 de INF8111.\n",
    "\n",
    "On doit aller chercher plusieurs tweets liés à l'actualité. Voici le lien vers les tweets id que nous devons utiliser: https://doi.org/10.7910/DVN/2FIFLH.\n",
    "\n",
    "Il y a 39 695 156 tweets, ce qui prend 4.6 jours à extraire selon les limites de 900 requêtes (chaque requête pouvant contenir 100 tweets) par 15 minutes de twitter.\n",
    "\n",
    "Nous devons faire une sélection des tweets que nous devons hydrater. Nous prenons un échanitllon de tweets ID pour créer notre .csv parmis tous les tweets id contenu dans le fichier news_outlet.txt (notre population). \n",
    "\n",
    "Si l'on prend l'hypothèse de la normalité dans notre population (i.e. que chaque attribut est normalement distirbué, ce qui est justifiable dû au très grand nombre d'observations et au théorème central limite), nous pouvons sélectionner un échantillon de taille acceptable pour s'assurer que la variance et la moyenne de notre échantillon soient similaires à ceux de la population.\n",
    "\n",
    "À visiter: https://www.surveysystem.com/sscalc.htm\n",
    "\n",
    "Une taille d'échantillon qui semble bien pourrait être d'environ 900 000 tweets (soit environ 2% de notre population). Si notre plan d'échantillonage est sans biais, 900 000 tweets semble une bonne taille (valider avec la calculatrice). Et, 900 000 observations reste encore très gérable localement sur nos machines (pas besoin de trop d'infrastructure). Devrait prendre environ 2.5 heures.\n",
    "\n",
    "Mais, il faut considérer que nous voulons seulement des tweets en anglais et qu'en hydratant 900 000 tweets, les 900 000 ne seront pas tous en anlais. Selon des tests rapides préliminaires, environ 75% des tweets sont en anglais (nous avons eu 27 622 tweets en anglais parmis 36 754 hydratation). Ainsi, pour avoir 900 000 tweets en anglais, nous devrions environ hydrater 1 125 000 tweets.\n",
    "\n",
    "On y va donc avec un 1 000 000 tweets rond, ce qui au maximum devrait prendre 3 heures (still realy manageable data extraction time). \n",
    "\n",
    "(peut-ête que plutot 300 000 tweets devraient être enough, vraiment juste à voir le temps à mettre/le bloquant d'attendre tout ce temps)."
   ]
  },
  {
   "cell_type": "code",
   "execution_count": 1,
   "metadata": {},
   "outputs": [],
   "source": [
    "# Setup\n",
    "import csv\n",
    "import time\n",
    "import random\n",
    "import sys\n",
    "from sklearn.model_selection import train_test_split\n",
    "from sklearn.feature_extraction.text import TfidfVectorizer\n",
    "from nltk.tokenize import TweetTokenizer\n",
    "from nltk.stem.snowball import SnowballStemmer\n",
    "from nltk.corpus import stopwords\n",
    "import string\n",
    "import re\n",
    "from scipy.sparse import csr_matrix\n",
    "import math\n",
    "import pickle\n",
    "import scipy\n",
    "\n",
    "from twython import Twython, TwythonError, TwythonRateLimitError\n",
    "\n",
    "import numpy as np\n",
    "import pandas as pd\n",
    "from matplotlib import pyplot as plt\n",
    "import matplotlib\n",
    "\n",
    "import nltk\n",
    "import gensim\n",
    "\n",
    "\n",
    "\n",
    "# On impose la seed du pseudo-random number generator pour assurer la répétabilité de nos résultats\n",
    "random.seed(42)"
   ]
  },
  {
   "cell_type": "markdown",
   "metadata": {},
   "source": [
    "Important d'assurer la répétabilité de nos résultats. Un des grand fléau du data science. Les gens font plein de trucs cool, génèrent des résultats, mais ne sont pas capable de les re-créer (eux-même ou d'autres personnes). Pour assurer la **qualité**, la **rigueur** et la **valeur** de nos résutlats/insights, il faut absolument que les résultats soient *reproducible* (ca vaut la peine de s'attarder sur ce point dans le rapport)."
   ]
  },
  {
   "cell_type": "markdown",
   "metadata": {},
   "source": [
    "# Hydratation des tweets\n",
    "On va shuffler au hasard toutes les lignes dans le fichier txt contenant le tweet handles.\n",
    "On ne veut pas que notre échantillon possède un biais induit par la méthode d'acquisition des tweets ids de la part des gens qui ont créé le fichier. Par exemple, s'ils ont sélectionner tous les tweets d'un compte et ont mis ces tweets au début du fichier, si nous ne faisons que prendre les *N* premiers tweets id du fichier, alors notre échantillon va beaucoup plus représenter ce compte twitter que l'ensemble de la population."
   ]
  },
  {
   "cell_type": "code",
   "execution_count": 2,
   "metadata": {},
   "outputs": [],
   "source": [
    "# Credentials de Étienne Boisvenue\n",
    "\n",
    "# Information de l'application\n",
    "CONSUMER_KEY = \"DUMMYDUMMY\"\n",
    "CONSUMER_SECRET = \"DUMMYDUMMY\"\n",
    "\n",
    "# Information d'authentication\n",
    "oauth_token = \"DUMMY-DUMMY\"\n",
    "oauth_secret = \"DUMMYDUMMY\""
   ]
  },
  {
   "cell_type": "code",
   "execution_count": 3,
   "metadata": {},
   "outputs": [],
   "source": [
    "# On crée une ''porte'' vers twitter.\n",
    "twitter = Twython(CONSUMER_KEY, CONSUMER_SECRET, oauth_token, oauth_secret)"
   ]
  },
  {
   "cell_type": "code",
   "execution_count": null,
   "metadata": {},
   "outputs": [],
   "source": [
    "%%time\n",
    "# On shuffle le fichier texte (downloader du site que le prof à fourni)\n",
    "# Prend environ  2 minutes\n",
    "# Pas du tout la facon la plus optimale, mais ca fait la job pour nos besoins\n",
    "# On fait ce shuffle juste une fois, assure un peu plus la représentativité de la population dans l'échantillon\n",
    "\n",
    "\n",
    "lines = open('news_outlets.txt').readlines()\n",
    "random.shuffle(lines)\n",
    "open('shuffled_news_outlets.txt', 'w').writelines(lines)"
   ]
  },
  {
   "cell_type": "code",
   "execution_count": 4,
   "metadata": {},
   "outputs": [],
   "source": [
    "random.seed(42)"
   ]
  },
  {
   "cell_type": "markdown",
   "metadata": {},
   "source": [
    "Fonction pour hydrater la base de données. On crée des sous-ensemble de 100 tweets. On respecte le 15 minutes entre chaque.\n",
    "Notre fonction est assez modulaire: on passe en argument *features* qui est une liste de liste. Ainsi, nous sommes facilement capable de naviguer les *nested dictionnaries*.\n",
    "\n",
    "\n",
    "\n",
    "\n",
    "\n",
    "**Petit ajout de ce que Pierre-Étienne avait fait:**\n",
    "Pour le header du csv, on ne met pas juste le dernier élément de la liste *key*. Nous avons *id* pour définir le *tweet id* et nous avons également *id* pour définir le *user id*. On a donc besoin de plusieurs éléments de la liste *key* pour définir l'attribut.\n",
    "\n",
    "**ATTENTION!!!!!!!** En ce moment nous sommes hardcoder pour seulement accéder des données du tweet au premier ou deuxième niveau (de la manière dont le csv header est créé, voir dans def hydrate_database)."
   ]
  },
  {
   "cell_type": "code",
   "execution_count": 5,
   "metadata": {},
   "outputs": [],
   "source": [
    "def hydrate_database(filename, database_name, \n",
    "                     features, nb_requests, \n",
    "                     tweet_hydratation_limit=100):\n",
    "    \"\"\"\n",
    "    Create a csv file that contains features of tweets from an file that contains ID of tweets.\n",
    "    \n",
    "    filename: Name of the file that contains ids\n",
    "    database_name: name of the file that will be created\n",
    "    features: List of features\n",
    "    nb_requests: number of time the function lookup_status will be called\n",
    "    tweet_hydratation_limit:\n",
    "    \"\"\"\n",
    "    # Opening the ID File:\n",
    "    file = open(filename, \"r\")\n",
    "    \n",
    "    # On génère la list de Tweet Ids à envoyer à l'API.\n",
    "    tweet_id = file.readline()\n",
    "\n",
    "    lst_tweet_ids = []\n",
    "    tweet_ids = []\n",
    "\n",
    "    tweet_ids.append(tweet_id)\n",
    "\n",
    "    while tweet_id:\n",
    "        tweet_id = file.readline().rstrip('\\r\\n')\n",
    "        tweet_ids.append(tweet_id)\n",
    "\n",
    "        if len(tweet_ids) == tweet_hydratation_limit:\n",
    "            lst_tweet_ids.append(\",\".join(tweet_ids))\n",
    "            tweet_ids = []\n",
    "    \n",
    "    if len(tweet_ids) > 0:\n",
    "        lst_tweet_ids.append(\",\".join(tweet_ids))\n",
    "    \n",
    "    # Creation of the file that will contain the hydrated tweets:\n",
    "    with open(database_name, 'w', newline='', encoding=\"utf-8\") as csvfile:  \n",
    "        \n",
    "        requestsMade = 0\n",
    "        \n",
    "        csvHeader = ''\n",
    "        # On crée tout d'abord l'entête du csv\n",
    "        for key in features :\n",
    "            # Comme toutes les clés sont dans des listes, on ramasse la dernière clé de chaque liste, car ce\n",
    "            # sont celles qui correspondront aux valeurs retournées.\n",
    "            if len(key)==1:\n",
    "                csvHeader += key[-1] + ','\n",
    "            if len(key)==2:\n",
    "                csvHeader += key[-2] +'_'+ key[-1] +','\n",
    "                \n",
    "            \n",
    "        \n",
    "        # On enlève la dernière virgule\n",
    "        csvHeader = csvHeader[:-1] + '\\n'\n",
    "        \n",
    "        # On écrit l'entête dans le fichier csv.\n",
    "        csvfile.write(csvHeader)\n",
    "        \n",
    "        for i in range(0, len(lst_tweet_ids)):\n",
    "            \n",
    "            # Si on a atteint le nombre de requêtes maximal, on arrête d'itérer\n",
    "            if requestsMade >= nb_requests:\n",
    "                break\n",
    "                \n",
    "            tweetIds = lst_tweet_ids[i]\n",
    "                \n",
    "            try:\n",
    "                # Effectue la requête à l'API\n",
    "                tweets = twitter.lookup_status(id=tweetIds)\n",
    "                \n",
    "                # Comme la requête n'a pas lancé d'exception, on augmente de 1 le nombre de requêtes effectuées.\n",
    "                requestsMade += 1\n",
    "                \n",
    "                print(\"Request count : \" + str(requestsMade))\n",
    "                \n",
    "                #On ramasse le contenu des tweets\n",
    "                for tweet in tweets:\n",
    "                    csvLine = ''\n",
    "                    \n",
    "                    for key in features :\n",
    "                        \n",
    "                        # Utilisé pour aller chercher les sous-propriétés dans la structure du Tweet.\n",
    "                        valueToFetch = tweet\n",
    "                        \n",
    "                        for subKey in key:\n",
    "                            # S'il manque l'information voulue dans le tweet, on écrit une chaîne vide dans\n",
    "                            # le csv et on passe au prochain ensemble de clé à rechercher.\n",
    "                            if subKey not in valueToFetch:\n",
    "                                valueToFetch = ''\n",
    "                                break\n",
    "                            \n",
    "                            # On descend d'un niveau dans la structure du tweet, jusqu'à ce qu'on arrive à la\n",
    "                            # sous-clé et valeur recherchée.\n",
    "                            valueToFetch = valueToFetch[subKey]\n",
    "\n",
    "                        # Une fois que la valeur associée à la sous-clé a été trouvée, on l'ajoute à la ligne\n",
    "                        # du csv. On remplace aussi les newlines, les carriage return et les virgules par des\n",
    "                        # espaces, histoire de s'assurer de l'intégrité du csv.\n",
    "                        if valueToFetch is not None:\n",
    "                            csvLine += str(valueToFetch).replace(',', ' ').replace('\\r', ' ').replace('\\n', ' ') + ','\n",
    "                        else:\n",
    "                            csvLine += ','\n",
    "\n",
    "                    # On enlève la dernière virgule\n",
    "                    csvLine = csvLine[:-1] + '\\n'\n",
    "\n",
    "                    # On écrit la ligne dans le fichier csv.\n",
    "                    csvfile.write(csvLine)\n",
    "                \n",
    "            except TwythonError as e:\n",
    "                if isinstance(e, TwythonRateLimitError):\n",
    "                    retry_after = int(e.retry_after)\n",
    "                    \n",
    "                    # On attends le temps prescrit par l'API avant de recommencer.\n",
    "                    print(\"We need to wait until : \" + str(retry_after))\n",
    "                    print('Current time:'+str(time.time()))\n",
    "                    print('This is '+str(time.time()-retry_after)+' seconds')\n",
    "                    \n",
    "                    while time.time()< retry_after:\n",
    "                        time.sleep(10)\n",
    "                        print(\"We need to wait until : \" + str(retry_after))\n",
    "                        print('Current time:'+str(time.time()))\n",
    "                    \n",
    "                    # On décrémente l'index de l'itérateur pour réessayer avec les tweets qu'on a manqués\n",
    "                    i -= 1\n",
    "    \n",
    "    print(\"Database hydratation complete.\")\n",
    "    \n",
    "    file.close()\n"
   ]
  },
  {
   "cell_type": "code",
   "execution_count": 6,
   "metadata": {},
   "outputs": [
    {
     "name": "stdout",
     "output_type": "stream",
     "text": [
      "1572444314.9057455\n"
     ]
    }
   ],
   "source": [
    "print(time.time())"
   ]
  },
  {
   "cell_type": "markdown",
   "metadata": {},
   "source": [
    "Maintenant on passe notre fichier shuffled à notre fonction qui hydrate. \n",
    "\n",
    "Pour l'instant je vais travailler avec un 5 fois 100 nombre de tweets (5 requêtes de 100 tweets chaque) et durant la nuit je vais lancer l'hydratation de 10 000 requêtes de 100 chaque, donc un million de tweets)."
   ]
  },
  {
   "cell_type": "code",
   "execution_count": null,
   "metadata": {
    "scrolled": true
   },
   "outputs": [],
   "source": [
    "filename = \"shuffled_news_outlets.txt\"\n",
    "database_name = \"news_more_features_10000_4.csv\"\n",
    "features = [['id'],\n",
    "            ['created_at'],\n",
    "            ['text'],\n",
    "            ['user','id'],\n",
    "            ['user','name'],\n",
    "            ['user','screen_name'],\n",
    "            ['user','location'],\n",
    "            ['user','description'],\n",
    "            ['user','followers_count'],\n",
    "            ['in_reply_to_status_id'],\n",
    "            ['lang']]\n",
    "nb_requests = 10000\n",
    "\n",
    "hydrate_database(filename, database_name, features, nb_requests, tweet_hydratation_limit=100)"
   ]
  },
  {
   "cell_type": "markdown",
   "metadata": {},
   "source": [
    "On pre-process les tweets, exactement comme dans le tp1, mais on utilise des librairies optimisées plutôt que les version *homemade* que nous avions fait. L'objectif du tp2 n'est plus de nous introduire au technique (d'où pourquoi nous étions obligé de codé les techniques nous-même), mais plutôt de les appliqués. Nous avons démontré notre compréhension déjà des techniques de base de NLP pre-processing avec le tp1. \n",
    "\n",
    "\n",
    "- On load le document csv que l'on vient de créer avec les tweets hydrater.\n",
    "- Ce .csv agit comme notre base de données.\n",
    "- À partir d'ici, nous ne touchons plus du tout au Twitter API."
   ]
  },
  {
   "cell_type": "markdown",
   "metadata": {},
   "source": [
    "Au lieu de toute cette grosse fonction d'enfer, nous n'avons qu'à loader le .csv avec pandas"
   ]
  },
  {
   "cell_type": "code",
   "execution_count": null,
   "metadata": {},
   "outputs": [],
   "source": [
    "df = pd.read_csv('news_more_features_10000.csv')"
   ]
  },
  {
   "cell_type": "code",
   "execution_count": null,
   "metadata": {
    "scrolled": true
   },
   "outputs": [],
   "source": [
    "print('Number of not NaN values for in_reply_to_status_id:')\n",
    "print(len(df.loc[df['in_reply_to_status_id'].notnull()]))\n",
    "print(df['in_reply_to_status_id'].value_counts())\n",
    "print('\\n')\n",
    "\n",
    "print(df.columns)\n",
    "print(df.dtypes)\n",
    "df.head(5)"
   ]
  },
  {
   "cell_type": "markdown",
   "metadata": {},
   "source": [
    "**Plus tard, lorsque les clusters seront fait, il serait vraiment intéressant de voir si les 6 tweets répondant au même tweet font partie de même clusters!!**"
   ]
  },
  {
   "cell_type": "markdown",
   "metadata": {},
   "source": [
    "On veut changer le type de certaines colonnes.\n",
    "- id doit devenir un string (object). On ne veut pas faire des mathématiques avec cet attribut, simplement avoir un identifiant unique pour chaque tweet\n",
    "- created_at doit absolument être transformer dans un format de date quelconque\n",
    "- user_id doit devenir un string (object) pour la meme raison que id\n",
    "- in_reply_to_status_id doit devenir un string (en premier on transforme en int et ensuite en string pour ne pas conserver la notation scientifique du ''e'' représentant un exposant dans notre string final.\n",
    "\n",
    "\n",
    "\n",
    "\n",
    "**IMPORTANT:** Le champ *in_reply_to_status_id* est très souvent vide. Nous avons rempli les NaN avec des -1. Permet de convertir en int et par la suite en str. Les tweet id ne peuvent pas être négatif. Pour simplement remplir le champ, on impose donc -1 comme valeur."
   ]
  },
  {
   "cell_type": "code",
   "execution_count": null,
   "metadata": {},
   "outputs": [],
   "source": [
    "%%time\n",
    "# On fait toutes les conversions de types nécessaire\n",
    "\n",
    "# in_reply_to_status_id devient in string. On rempli les NaN avec de -1\n",
    "df['in_reply_to_status_id']=df['in_reply_to_status_id'].fillna(-1)\n",
    "df['in_reply_to_status_id']=df['in_reply_to_status_id'].astype(int)\n",
    "df['in_reply_to_status_id']=df['in_reply_to_status_id'].astype(str)\n",
    "\n",
    "\n",
    "# id devient un string\n",
    "df['id']=df['id'].astype(str)\n",
    "\n",
    "\n",
    "# user_id devient un string\n",
    "df['user_id']=df['user_id'].astype(str)\n",
    "\n",
    "# created_at devient un format de date\n",
    "df['created_at'] = pd.to_datetime(df['created_at'])\n",
    "# Il est également possible de trier les lignes par ordres chronologiques:\n",
    "# df.sort_values(by='created_at')\n",
    "\n",
    "\n",
    "\n",
    "\n",
    "print(df.dtypes)"
   ]
  },
  {
   "cell_type": "code",
   "execution_count": null,
   "metadata": {},
   "outputs": [],
   "source": [
    "df_eng = df.loc[df['lang'] == 'en']\n",
    "df_eng=df_eng.reset_index()\n",
    "\n",
    "# On crée un échantillon de df_eng, parce que 800 000 c'est overkill. \n",
    "# Mais au moins, on en a 800 000, si jamais on en veut méga beaucoup\n",
    "df_sample=df_eng[0:100000]\n",
    "\n",
    "print(df.shape)\n",
    "df.head(5)"
   ]
  },
  {
   "cell_type": "code",
   "execution_count": null,
   "metadata": {},
   "outputs": [],
   "source": [
    "print(df_eng.shape)\n",
    "df_eng.head(5)"
   ]
  },
  {
   "cell_type": "markdown",
   "metadata": {},
   "source": [
    "On dump (sauvegarde) les dataframe (df, df_eng et df_sample) qui ont été pre-processed (transformer les dates est assez long). "
   ]
  },
  {
   "cell_type": "code",
   "execution_count": 4,
   "metadata": {},
   "outputs": [],
   "source": [
    "# On dump les dataframe qui ont été pre-processed.\n",
    "# C'est assez long de transformer created_at en format datetime (environ 2 minutes)\n",
    "\n",
    "#df.to_pickle(\"df.pkl\")\n",
    "#df_eng.to_pickle(\"df_eng.pkl\")\n",
    "#df_sample.to_pickle(\"df_sample.pkl\")\n",
    "\n",
    "\n",
    "df = pd.read_pickle(\"preprocessing/df.pkl\")\n",
    "df_eng = pd.read_pickle(\"preprocessing/df_eng.pkl\")\n",
    "df_sample = pd.read_pickle(\"preprocessing/df_sample.pkl\")"
   ]
  },
  {
   "cell_type": "code",
   "execution_count": 5,
   "metadata": {
    "scrolled": true
   },
   "outputs": [
    {
     "name": "stdout",
     "output_type": "stream",
     "text": [
      "(944720, 11)\n",
      "(803951, 12)\n",
      "(100000, 12)\n"
     ]
    },
    {
     "data": {
      "text/html": [
       "<div>\n",
       "<style scoped>\n",
       "    .dataframe tbody tr th:only-of-type {\n",
       "        vertical-align: middle;\n",
       "    }\n",
       "\n",
       "    .dataframe tbody tr th {\n",
       "        vertical-align: top;\n",
       "    }\n",
       "\n",
       "    .dataframe thead th {\n",
       "        text-align: right;\n",
       "    }\n",
       "</style>\n",
       "<table border=\"1\" class=\"dataframe\">\n",
       "  <thead>\n",
       "    <tr style=\"text-align: right;\">\n",
       "      <th></th>\n",
       "      <th>id</th>\n",
       "      <th>created_at</th>\n",
       "      <th>text</th>\n",
       "      <th>user_id</th>\n",
       "      <th>user_name</th>\n",
       "      <th>user_screen_name</th>\n",
       "      <th>user_location</th>\n",
       "      <th>user_description</th>\n",
       "      <th>user_followers_count</th>\n",
       "      <th>in_reply_to_status_id</th>\n",
       "      <th>lang</th>\n",
       "    </tr>\n",
       "  </thead>\n",
       "  <tbody>\n",
       "    <tr>\n",
       "      <th>0</th>\n",
       "      <td>758300552702726146</td>\n",
       "      <td>2016-07-27 13:58:34+00:00</td>\n",
       "      <td>Bodycam video shows Iowa football player searc...</td>\n",
       "      <td>44433231</td>\n",
       "      <td>Clinton Herald</td>\n",
       "      <td>ClintonHerald</td>\n",
       "      <td>Clinton  Iowa</td>\n",
       "      <td>Follow to receive updates on breaking news &amp; s...</td>\n",
       "      <td>2492.0</td>\n",
       "      <td>-1</td>\n",
       "      <td>en</td>\n",
       "    </tr>\n",
       "    <tr>\n",
       "      <th>1</th>\n",
       "      <td>999006833284173826</td>\n",
       "      <td>2018-05-22 19:19:24+00:00</td>\n",
       "      <td>RT @UnivDeportes: #Rusia2018 ¡Excelentes notic...</td>\n",
       "      <td>16676396</td>\n",
       "      <td>El Universal</td>\n",
       "      <td>El_Universal_Mx</td>\n",
       "      <td>Centro de la Ciudad de México</td>\n",
       "      <td>Cuenta oficial de El Gran Diario de México. Co...</td>\n",
       "      <td>5203310.0</td>\n",
       "      <td>-1</td>\n",
       "      <td>es</td>\n",
       "    </tr>\n",
       "    <tr>\n",
       "      <th>2</th>\n",
       "      <td>877553008564948992</td>\n",
       "      <td>2017-06-21 15:45:16+00:00</td>\n",
       "      <td>A decision once seen as a threat to completion...</td>\n",
       "      <td>14801219</td>\n",
       "      <td>MinnPost</td>\n",
       "      <td>MinnPost</td>\n",
       "      <td>Minneapolis  MN</td>\n",
       "      <td>Independent  member-supported journalism for M...</td>\n",
       "      <td>91770.0</td>\n",
       "      <td>-1</td>\n",
       "      <td>en</td>\n",
       "    </tr>\n",
       "    <tr>\n",
       "      <th>3</th>\n",
       "      <td>708816415889891328</td>\n",
       "      <td>2016-03-13 00:46:17+00:00</td>\n",
       "      <td>All knotted up at 29 with FTs to go for Maumel...</td>\n",
       "      <td>55352444</td>\n",
       "      <td>Rock Town Sports</td>\n",
       "      <td>rocktownsports</td>\n",
       "      <td>Central Arkansas</td>\n",
       "      <td>NaN</td>\n",
       "      <td>1791.0</td>\n",
       "      <td>-1</td>\n",
       "      <td>en</td>\n",
       "    </tr>\n",
       "    <tr>\n",
       "      <th>4</th>\n",
       "      <td>908062696544899074</td>\n",
       "      <td>2017-09-13 20:19:52+00:00</td>\n",
       "      <td>Chance the Rapper is facing a lawsuit https://...</td>\n",
       "      <td>14089195</td>\n",
       "      <td>Pitchfork</td>\n",
       "      <td>pitchfork</td>\n",
       "      <td>Chicago/NYC</td>\n",
       "      <td>The most trusted voice in music.</td>\n",
       "      <td>3306998.0</td>\n",
       "      <td>-1</td>\n",
       "      <td>en</td>\n",
       "    </tr>\n",
       "  </tbody>\n",
       "</table>\n",
       "</div>"
      ],
      "text/plain": [
       "                   id                created_at  \\\n",
       "0  758300552702726146 2016-07-27 13:58:34+00:00   \n",
       "1  999006833284173826 2018-05-22 19:19:24+00:00   \n",
       "2  877553008564948992 2017-06-21 15:45:16+00:00   \n",
       "3  708816415889891328 2016-03-13 00:46:17+00:00   \n",
       "4  908062696544899074 2017-09-13 20:19:52+00:00   \n",
       "\n",
       "                                                text   user_id  \\\n",
       "0  Bodycam video shows Iowa football player searc...  44433231   \n",
       "1  RT @UnivDeportes: #Rusia2018 ¡Excelentes notic...  16676396   \n",
       "2  A decision once seen as a threat to completion...  14801219   \n",
       "3  All knotted up at 29 with FTs to go for Maumel...  55352444   \n",
       "4  Chance the Rapper is facing a lawsuit https://...  14089195   \n",
       "\n",
       "          user_name user_screen_name                  user_location  \\\n",
       "0    Clinton Herald    ClintonHerald                  Clinton  Iowa   \n",
       "1      El Universal  El_Universal_Mx  Centro de la Ciudad de México   \n",
       "2          MinnPost         MinnPost                Minneapolis  MN   \n",
       "3  Rock Town Sports   rocktownsports               Central Arkansas   \n",
       "4         Pitchfork        pitchfork                    Chicago/NYC   \n",
       "\n",
       "                                    user_description  user_followers_count  \\\n",
       "0  Follow to receive updates on breaking news & s...                2492.0   \n",
       "1  Cuenta oficial de El Gran Diario de México. Co...             5203310.0   \n",
       "2  Independent  member-supported journalism for M...               91770.0   \n",
       "3                                                NaN                1791.0   \n",
       "4                   The most trusted voice in music.             3306998.0   \n",
       "\n",
       "  in_reply_to_status_id lang  \n",
       "0                    -1   en  \n",
       "1                    -1   es  \n",
       "2                    -1   en  \n",
       "3                    -1   en  \n",
       "4                    -1   en  "
      ]
     },
     "execution_count": 5,
     "metadata": {},
     "output_type": "execute_result"
    }
   ],
   "source": [
    "print(df.shape)\n",
    "print(df_eng.shape)\n",
    "print(df_sample.shape)\n",
    "df.head()\n"
   ]
  },
  {
   "cell_type": "markdown",
   "metadata": {},
   "source": [
    "Donc, au final, nous avons environ 800 000 tweets en anglais que nous pouvons utiliser pour faire du clustering (but du tp = regrouper les news tweets en catégories)."
   ]
  },
  {
   "cell_type": "markdown",
   "metadata": {},
   "source": [
    "# Exploration de nos données (statistiques descriptives)\n",
    "\n",
    "**JE NE COMPREND PAS TROP POURQUOI LES HIST SONT LAIDS ET PK J'AI DE LA MISÈRE À METTRE LE PARAMÈETRE NBINS.....**\n",
    "\n",
    "\n",
    "**Section qui démontre très bien notre rigeur et compréhension du dataset (pour le rapport). #JadeFaitDesStatDescrptiveCommeDansLautreCours**\n",
    "\n",
    "\n",
    "\n",
    "Avant même de pre-process les tweets, nous voulons brièvement explorer les méta-données à propos des tweets que nous avons hydratés. "
   ]
  },
  {
   "cell_type": "code",
   "execution_count": 52,
   "metadata": {},
   "outputs": [
    {
     "data": {
      "text/plain": [
       "en     803951\n",
       "es      39728\n",
       "fr      16950\n",
       "de      11608\n",
       "und      9383\n",
       "ar       8473\n",
       "ja       8230\n",
       "in       7141\n",
       "hi       6201\n",
       "ru       3885\n",
       "pt       3409\n",
       "tr       3009\n",
       "ca       2667\n",
       "nl       2376\n",
       "iw       1935\n",
       "ko       1854\n",
       "it       1637\n",
       "da       1572\n",
       "bn       1234\n",
       "el       1178\n",
       "pl       1120\n",
       "sv       1024\n",
       "tl        720\n",
       "fi        673\n",
       "ro        631\n",
       "ka        588\n",
       "et        547\n",
       "no        486\n",
       "zh        410\n",
       "ur        375\n",
       "sr        320\n",
       "fa        314\n",
       "ht        264\n",
       "cy        218\n",
       "bg         75\n",
       "sl         72\n",
       "lt         66\n",
       "cs         58\n",
       "uk         56\n",
       "hu         38\n",
       "eu         34\n",
       "lv         21\n",
       "is         17\n",
       "mr         11\n",
       "ne         11\n",
       "ta          8\n",
       "vi          4\n",
       "Name: lang, dtype: int64"
      ]
     },
     "execution_count": 52,
     "metadata": {},
     "output_type": "execute_result"
    }
   ],
   "source": [
    "# Distribution des langues\n",
    "df['lang'].value_counts()"
   ]
  },
  {
   "cell_type": "code",
   "execution_count": 53,
   "metadata": {},
   "outputs": [
    {
     "data": {
      "text/plain": [
       "en    803951\n",
       "Name: lang, dtype: int64"
      ]
     },
     "execution_count": 53,
     "metadata": {},
     "output_type": "execute_result"
    }
   ],
   "source": [
    "df_eng['lang'].value_counts()"
   ]
  },
  {
   "cell_type": "markdown",
   "metadata": {},
   "source": [
    "Pour tout le reste de l'exploration et de l'analyse (bref, tout le reste du tp), nous allons nous concentrer sur df_eng, soit uniquemment les tweets en anglais."
   ]
  },
  {
   "cell_type": "code",
   "execution_count": 133,
   "metadata": {},
   "outputs": [
    {
     "data": {
      "image/png": "[encoded data removed]",
      "text/plain": [
       "<Figure size 720x288 with 1 Axes>"
      ]
     },
     "metadata": {
      "needs_background": "light"
     },
     "output_type": "display_data"
    },
    {
     "data": {
      "image/png": "[encoded data removed]",
      "text/plain": [
       "<Figure size 720x288 with 1 Axes>"
      ]
     },
     "metadata": {
      "needs_background": "light"
     },
     "output_type": "display_data"
    }
   ],
   "source": [
    "from scipy.optimize import curve_fit\n",
    "\n",
    "def fit_function(x, A, beta, B, mu, sigma):\n",
    "    return (A * np.exp(-x/beta) + B * np.exp(-1.0 * (x - mu)**2 / (2 * sigma**2)))\n",
    "\n",
    "font = {'family' : 'normal',\n",
    "        'weight' : 'bold',\n",
    "        'size'   : 18}\n",
    "\n",
    "matplotlib.rc('font', **font)\n",
    "\n",
    "# Distribution des tweet dans le temps\n",
    "plt.figure(figsize=(10,4))\n",
    "plt.hist(df_eng['created_at'].values,edgecolor='black',bins=60)\n",
    "##########################################plt.title('Distribution des tweets dans le temps des 800 000 tweets')\n",
    "plt.xlabel('Date')\n",
    "plt.ylabel('Fréquence')\n",
    "plt.show()\n",
    "\n",
    "# Distribution des tweet dans le temps\n",
    "plt.figure(figsize=(10,4))\n",
    "plt.hist(df_sample['created_at'].values,edgecolor='black',bins=60)\n",
    "###########################################################plt.title('Distribution des tweets dans le temps des 100 000 tweets')\n",
    "plt.xlabel('Date')\n",
    "plt.ylabel('Fréquence')\n",
    "plt.show()\n",
    "\n",
    "\n",
    "\n",
    "\n"
   ]
  },
  {
   "cell_type": "code",
   "execution_count": 111,
   "metadata": {},
   "outputs": [
    {
     "name": "stderr",
     "output_type": "stream",
     "text": [
      "C:\\Users\\etien\\Anaconda3\\lib\\site-packages\\ipykernel_launcher.py:9: MatplotlibDeprecationWarning: \n",
      "The 'normed' kwarg was deprecated in Matplotlib 2.1 and will be removed in 3.1. Use 'density' instead.\n",
      "  if __name__ == '__main__':\n"
     ]
    },
    {
     "name": "stdout",
     "output_type": "stream",
     "text": [
      "[1.20725210e-06 2.06957502e-06 2.24203961e-06 2.93189795e-06\n",
      " 7.76090633e-06 7.76090633e-06 7.76090633e-06 1.03478751e-05\n",
      " 6.38118965e-06 7.76090633e-06 1.03478751e-05 1.27623793e-05\n",
      " 1.06928043e-05 1.65566002e-05 1.67290648e-05 1.25899147e-05\n",
      " 2.20754669e-05 2.29377898e-05 2.01783565e-05 2.63870815e-05\n",
      " 3.12160899e-05 2.63870815e-05 2.81117274e-05 4.41509338e-05\n",
      " 3.53552400e-05 4.03567129e-05 4.93248713e-05 4.05291775e-05\n",
      " 4.63929734e-05 5.63959193e-05 6.41568257e-05 6.20872506e-05\n",
      " 7.79539925e-05 7.48496299e-05 7.22626612e-05 9.22685530e-05\n",
      " 1.03996145e-04 7.65742758e-05 1.32107872e-04 1.26589005e-04\n",
      " 1.10377334e-04 1.21070139e-04 1.71774727e-04 1.53493481e-04\n",
      " 1.95057446e-04 2.28515575e-04 2.29205434e-04 3.14575403e-04\n",
      " 4.79968940e-04 5.65856304e-04 6.29668200e-04 9.68906039e-04\n",
      " 1.30917867e-03 1.31952654e-03 1.54200586e-03 1.55028416e-03\n",
      " 1.44646048e-03 1.57943067e-03 1.44835759e-03 1.37419781e-03]\n",
      "[733415.7166088  733473.69952739 733531.68244599 733589.66536458\n",
      " 733647.64828318 733705.63120177 733763.61412037 733821.59703897\n",
      " 733879.57995756 733937.56287616 733995.54579475 734053.52871335\n",
      " 734111.51163194 734169.49455054 734227.47746914 734285.46038773\n",
      " 734343.44330633 734401.42622492 734459.40914352 734517.39206211\n",
      " 734575.37498071 734633.35789931 734691.3408179  734749.3237365\n",
      " 734807.30665509 734865.28957369 734923.27249228 734981.25541088\n",
      " 735039.23832948 735097.22124807 735155.20416667 735213.18708526\n",
      " 735271.17000386 735329.15292245 735387.13584105 735445.11875965\n",
      " 735503.10167824 735561.08459684 735619.06751543 735677.05043403\n",
      " 735735.03335262 735793.01627122 735850.99918981 735908.98210841\n",
      " 735966.96502701 736024.9479456  736082.9308642  736140.91378279\n",
      " 736198.89670139 736256.87961998 736314.86253858 736372.84545718\n",
      " 736430.82837577 736488.81129437 736546.79421296 736604.77713156\n",
      " 736662.76005015 736720.74296875 736778.72588735 736836.70880594\n",
      " 736894.69172454]\n"
     ]
    },
    {
     "data": {
      "image/png": "[encoded data removed]",
      "text/plain": [
       "<Figure size 432x288 with 1 Axes>"
      ]
     },
     "metadata": {
      "needs_background": "light"
     },
     "output_type": "display_data"
    }
   ],
   "source": [
    "from scipy.optimize import curve_fit\n",
    "\n",
    "\n",
    "def expo(x, a, b, c):\n",
    "    return a * np.exp(-b * x) + c\n",
    "\n",
    "\n",
    "\n",
    "hist, bins, patches = plt.hist(df_sample['created_at'].values,edgecolor='black',bins=60, normed=True)\n",
    "print(hist)\n",
    "print(bins)\n",
    "\n",
    "new_bins=[]\n",
    "for i in range(len(bins)-1):\n",
    "    new_bins.append((bins[i]+bins[i+1])/2)\n",
    "new_bins=np.array(new_bins)\n"
   ]
  },
  {
   "cell_type": "code",
   "execution_count": 130,
   "metadata": {},
   "outputs": [
    {
     "data": {
      "image/png": "[encoded data removed]",
      "text/plain": [
       "<Figure size 432x288 with 1 Axes>"
      ]
     },
     "metadata": {
      "needs_background": "light"
     },
     "output_type": "display_data"
    },
    {
     "name": "stdout",
     "output_type": "stream",
     "text": [
      "[ 1.81893025e-03 -1.34684917e+03]\n",
      "0.8509454592391688\n"
     ]
    },
    {
     "data": {
      "image/png": "[encoded data removed]",
      "text/plain": [
       "<Figure size 432x288 with 1 Axes>"
      ]
     },
     "metadata": {
      "needs_background": "light"
     },
     "output_type": "display_data"
    }
   ],
   "source": [
    "plt.figure()\n",
    "plt.plot(new_bins,np.log(hist))\n",
    "plt.plot(new_bins,fitting[1]+(fitting[0]*new_bins))\n",
    "plt.show()\n",
    "\n",
    "fitting=np.polyfit(new_bins, np.log(hist),1)\n",
    "print(fitting)\n",
    "\n",
    "from sklearn.metrics import r2_score\n",
    "coefficient_of_determination = r2_score(hist, np.exp(fitting[1]+(fitting[0]*new_bins)))\n",
    "print(coefficient_of_determination)\n",
    "\n",
    "\n",
    "plt.figure()\n",
    "plt.plot(new_bins,hist)\n",
    "plt.plot(new_bins,np.exp(fitting[1]+(fitting[0]*new_bins)))\n",
    "plt.show()\n",
    "\n"
   ]
  },
  {
   "cell_type": "code",
   "execution_count": 90,
   "metadata": {},
   "outputs": [
    {
     "name": "stdout",
     "output_type": "stream",
     "text": [
      "1.2207696943163607e-06\n",
      "0.0013741978142845816\n",
      "(1.207252095882539e-06, 0.0002862337231141651)\n"
     ]
    }
   ],
   "source": [
    "P = ss.expon.fit(hist)\n",
    "print(1.2e-06*np.exp(0.000286*60))\n",
    "print(hist[-1])\n",
    "print (P)"
   ]
  },
  {
   "cell_type": "code",
   "execution_count": null,
   "metadata": {},
   "outputs": [],
   "source": [
    "# On valide que le user_id est vraiment unique à un compte\n",
    "df_eng['user_id'].loc[df_eng['user_name']=='The Independent']"
   ]
  },
  {
   "cell_type": "code",
   "execution_count": 14,
   "metadata": {
    "scrolled": true
   },
   "outputs": [
    {
     "data": {
      "text/plain": [
       "Chaffey Breeze News        1045\n",
       "The Independent             997\n",
       "The Indian Express          690\n",
       "The Guardian                601\n",
       "NDTV                        600\n",
       "The Hill                    486\n",
       "Fox News                    442\n",
       "BBC Sport                   438\n",
       "Reuters                     422\n",
       "Times of India              398\n",
       "Business Insider            379\n",
       "ABC News                    379\n",
       "Inquirer                    376\n",
       "The Irish Times             368\n",
       "POLITICO                    340\n",
       "Bloomberg                   310\n",
       "allAfrica.com               309\n",
       "The Washington Post         304\n",
       "CNN                         295\n",
       "RT                          287\n",
       "Entertainment Weekly        279\n",
       "The Wall Street Journal     276\n",
       "Financial Times             270\n",
       "Washington Examiner         266\n",
       "CNET                        251\n",
       "CNBC                        236\n",
       "CBS News                    235\n",
       "The New York Times          235\n",
       "Daily Nation                233\n",
       "The Boston Globe            230\n",
       "                           ... \n",
       "The Ark                       1\n",
       "RCTimes.com                   1\n",
       "L.A. Watts Times              1\n",
       "RTVE                          1\n",
       "Blanco County News            1\n",
       "The Capitol Forum             1\n",
       "Southfield Sun                1\n",
       "Mount Shasta News             1\n",
       "Diário de Notícias            1\n",
       "Florida Tech Crimson          1\n",
       "Grundy County Herald          1\n",
       "Denver Citizen                1\n",
       "The Asbury Collegian          1\n",
       "Agence France-Presse          1\n",
       "Sandy Journal                 1\n",
       "Topanga Messenger             1\n",
       "واس الأخبار الملكية           1\n",
       "La Jornada                    1\n",
       "The Clock at PSU              1\n",
       "The Cornell Review            1\n",
       "WilCo Sun                     1\n",
       "Le Mauricien                  1\n",
       "Nugget Newspaper              1\n",
       "Metro Chinese Weekly          1\n",
       "Ramapo News                   1\n",
       "AP Broadcast                  1\n",
       "Georgia Magazine              1\n",
       "MasonValleyNews               1\n",
       "Sonoran News                  1\n",
       "NBT Hindi News                1\n",
       "Name: user_name, Length: 4069, dtype: int64"
      ]
     },
     "execution_count": 14,
     "metadata": {},
     "output_type": "execute_result"
    }
   ],
   "source": [
    "# Distributions des comptes twitter présent dans notre base de données\n",
    "df_sample['user_name'].value_counts()"
   ]
  },
  {
   "cell_type": "code",
   "execution_count": null,
   "metadata": {},
   "outputs": [],
   "source": [
    "# Nombre d'auteur unique\n",
    "print(len(df_eng['user_name'].value_counts()))\n",
    "\n",
    "# Distribution du nombre de tweet par auteur\n",
    "plt.figure(figsize=(15,4))\n",
    "plt.hist(df_eng['user_name'].value_counts())\n",
    "plt.title('Distribution du nombre de tweet par compte')\n",
    "plt.xlabel('Nombre de tweet par compte')\n",
    "plt.ylabel('Fréquence')\n",
    "plt.show()\n",
    "\n",
    "# Moyenne du nombre de tweet par compte \n",
    "print(np.mean(df_eng['user_name'].value_counts()))\n",
    "\n",
    "# Médiane du nombre de tweet par compte\n",
    "print(np.median(df_eng['user_name'].value_counts()))"
   ]
  },
  {
   "cell_type": "code",
   "execution_count": null,
   "metadata": {},
   "outputs": [],
   "source": [
    "# Distribution du nombre de tweet par location.\n",
    "# On a besoin de faire un effort d'harmonicité\n",
    "df_eng['user_location'].value_counts()"
   ]
  },
  {
   "cell_type": "code",
   "execution_count": null,
   "metadata": {},
   "outputs": [],
   "source": [
    "df_eng.iloc[11]"
   ]
  },
  {
   "cell_type": "code",
   "execution_count": null,
   "metadata": {},
   "outputs": [],
   "source": [
    "# La moyenne est égal au nombre de followers, puisque le nombre de follower est le meme pour \n",
    "# tous les tweets provenant du même user. \n",
    "plt.figure(figsize=(15,4))\n",
    "plt.hist(np.array(df_eng.groupby(['user_name']).mean()['user_followers_count']), edgecolor='black')\n",
    "plt.title('Distribution du nombre de followers des users')\n",
    "plt.xlabel('Nombre de followers')\n",
    "plt.ylabel('Fréquence')\n",
    "plt.show()\n",
    "\n",
    "plt.figure()\n",
    "plt.boxplot(np.array(df_eng.groupby(['user_name']).mean()['user_followers_count']), vert=False)\n",
    "plt.show()"
   ]
  },
  {
   "cell_type": "markdown",
   "metadata": {},
   "source": [
    "# Pre-processing\n",
    "On va transformer tous et chacun de nos tweets on vecteur (tf-idf).\n",
    "\n",
    "Nous utilisons des librairies pré-existantes.\n",
    "\n",
    "On va donc:\n",
    "- Enlever les URL\n",
    "- Enlever les hashtags\n",
    "- Enlever les digits (nombres)\n",
    "- Enlever la ponctuation\n",
    "- Tokenize\n",
    "- Stemming\n",
    "- Remove stop words (besoin d'avoir été mis en minuscule)\n",
    "- Bigram\n",
    "- TF-IDF\n",
    "\n",
    "En premier, faisons tout ceci avec df_sample, juste pour voir c'est long comment."
   ]
  },
  {
   "cell_type": "markdown",
   "metadata": {},
   "source": [
    "Voici nos classe (principalement issues du TP1). "
   ]
  },
  {
   "cell_type": "code",
   "execution_count": null,
   "metadata": {},
   "outputs": [],
   "source": [
    "s = \"string. With. Punctuation!@#C$@$C@C!#@#@$?#ÉV$#V@V#'@V'..q.w  ew 999q twee.q.c1.C#@!$\"\n",
    "table = str.maketrans(dict.fromkeys(string.punctuation))  # OR {key: None for key in string.punctuation}\n",
    "new_s = s.translate(table)  \n",
    "print(new_s)"
   ]
  },
  {
   "cell_type": "code",
   "execution_count": 9,
   "metadata": {},
   "outputs": [],
   "source": [
    "class TwitterPreprocessing(object):\n",
    "\n",
    "    def preprocess(self, tweet):\n",
    "        \"\"\"\n",
    "        tweet: original tweet\n",
    "        \"\"\"\n",
    "        # TODO : Write your preprocessing steps here.\n",
    "        \n",
    "        # On retire les hyperliens\n",
    "        tweet = re.sub(r\"http[^,]+\\s*\", \"\", tweet)\n",
    "        \n",
    "        # On retire les ''hashtags''\n",
    "        tweet = re.sub(r\"#\\S+\", \"\", tweet)\n",
    "        \n",
    "        # On retire la ponctuation\n",
    "        table = str.maketrans(dict.fromkeys(string.punctuation))\n",
    "        tweet= tweet.translate(table)  \n",
    "        \n",
    "        # On retire les digits\n",
    "        tweet = re.sub(r\"\\d\", \"\", tweet)\n",
    "\n",
    "        # On retourne le tweet qui a été pre-processed\n",
    "        new_tweet=tweet\n",
    "        return new_tweet\n",
    "    \n",
    "class NLTKTokenizer(object):\n",
    "    \"\"\"\n",
    "    This tokenizer uses the default function of nltk package (https://www.nltk.org/api/nltk.html) to tokenize the text.\n",
    "    \"\"\"\n",
    "\n",
    "    def tokenize(self, text):\n",
    "        # TODO\n",
    "        tokens=[]\n",
    "        tokenizer=TweetTokenizer()\n",
    "        tokens=tokenizer.tokenize(text)\n",
    "\n",
    "        # Have to return a list of tokens\n",
    "        return tokens\n",
    "    \n",
    "class Stemmer(object):\n",
    "\n",
    "    def __init__(self):\n",
    "        self.stemmer = SnowballStemmer(\"english\", ignore_stopwords=False)\n",
    "\n",
    "    def stem(self, token):\n",
    "        \"\"\"\n",
    "        tokens: a list of strings\n",
    "        \"\"\"\n",
    "        # TODO\n",
    "        token=self.stemmer.stem(token)\n",
    "        \n",
    "        # Have to return a list of stems\n",
    "        return token\n",
    "    \n",
    "# On crée les instances des classes\n",
    "processer= TwitterPreprocessing()\n",
    "tokenizer=NLTKTokenizer()\n",
    "stemmer=Stemmer()"
   ]
  },
  {
   "cell_type": "markdown",
   "metadata": {},
   "source": [
    "**C'EST ICI QUE L'ON PEUT CHANGER ENTRE DF_SAMPLE ET DF_ENG**"
   ]
  },
  {
   "cell_type": "code",
   "execution_count": 18,
   "metadata": {},
   "outputs": [
    {
     "name": "stdout",
     "output_type": "stream",
     "text": [
      "Wall time: 2.93 s\n"
     ]
    }
   ],
   "source": [
    "%%time\n",
    "# On extrait la colonne contenant les tweets littérallement. \n",
    "tweets=list(df_sample['text'])\n",
    "#tweets=list(df_eng['text'])\n",
    "new_tweets=list(np.zeros(len(tweets)))\n",
    "\n",
    "# On enlève les URL, les hashtag, les nombres et les signes de ponctuation\n",
    "for i in range (len(tweets)):\n",
    "    new_tweets[i]=processer.preprocess(tweets[i])\n",
    "\n"
   ]
  },
  {
   "cell_type": "code",
   "execution_count": 19,
   "metadata": {},
   "outputs": [
    {
     "name": "stdout",
     "output_type": "stream",
     "text": [
      "Wall time: 8.89 s\n"
     ]
    }
   ],
   "source": [
    "%%time\n",
    "\n",
    "# On tokenize tous les tweets\n",
    "\n",
    "list_tokens=[]\n",
    "\n",
    "# On tokenize tous les pre-processed tweets\n",
    "for i in range(len(new_tweets)):\n",
    "    list_tokens.append(tokenizer.tokenize(new_tweets[i]))\n",
    "\n",
    "\n"
   ]
  },
  {
   "cell_type": "markdown",
   "metadata": {},
   "source": [
    "On fait le stemming."
   ]
  },
  {
   "cell_type": "code",
   "execution_count": 20,
   "metadata": {},
   "outputs": [
    {
     "name": "stdout",
     "output_type": "stream",
     "text": [
      "Wall time: 34.6 s\n"
     ]
    }
   ],
   "source": [
    "%%time\n",
    "# on a une liste dont chaque élément est une liste de tokens\n",
    "list_tokens_stem=[]\n",
    "\n",
    "# on loop sur chacun des élément de la liste\n",
    "for j in range(len(list_tokens)):\n",
    "    tokens=list_tokens[j]\n",
    "    list_tokens_stem.append(list(map(stemmer.stem, tokens)))\n"
   ]
  },
  {
   "cell_type": "code",
   "execution_count": 21,
   "metadata": {},
   "outputs": [
    {
     "name": "stdout",
     "output_type": "stream",
     "text": [
      "['RT', 'HarvardHBS', 'Why', 'does', 'Germany', 'hire', 'amp', 'train', 'Syrian', 'refugees', 'We', 'look', 'at', 'the', 'economy', 'amp', 'the', 'human', 'connection', 'in', 'the', 'new']\n",
      "['rt', 'harvardhb', 'whi', 'doe', 'germani', 'hire', 'amp', 'train', 'syrian', 'refuge', 'we', 'look', 'at', 'the', 'economi', 'amp', 'the', 'human', 'connect', 'in', 'the', 'new']\n"
     ]
    }
   ],
   "source": [
    "number=99996\n",
    "print(list_tokens[number])\n",
    "print(list_tokens_stem[number])"
   ]
  },
  {
   "cell_type": "markdown",
   "metadata": {},
   "source": [
    "On enlève maintenant les stopwords"
   ]
  },
  {
   "cell_type": "code",
   "execution_count": 22,
   "metadata": {},
   "outputs": [
    {
     "name": "stdout",
     "output_type": "stream",
     "text": [
      "Wall time: 588 ms\n"
     ]
    }
   ],
   "source": [
    "%%time\n",
    "stop_words=stop_words = set(stopwords.words('english')) \n",
    "filtered_tokens=[]\n",
    "\n",
    "# On loop sur tous les éléments de list_tokens_stem\n",
    "\n",
    "for k in range(len(list_tokens_stem)):\n",
    "    element=list_tokens_stem[k]\n",
    "    filtered_element = [word for word in element if word not in stop_words]\n",
    "    filtered_tokens.append(filtered_element)"
   ]
  },
  {
   "cell_type": "code",
   "execution_count": 38,
   "metadata": {},
   "outputs": [
    {
     "name": "stdout",
     "output_type": "stream",
     "text": [
      "Chance the Rapper is facing a lawsuit https://t.co/P9RJvDX3aK\n",
      "['chanc', 'rapper', 'face', 'lawsuit']\n"
     ]
    }
   ],
   "source": [
    "number=3\n",
    "print(tweets[number])\n",
    "print(filtered_tokens[number])"
   ]
  },
  {
   "cell_type": "code",
   "execution_count": 49,
   "metadata": {},
   "outputs": [
    {
     "name": "stdout",
     "output_type": "stream",
     "text": [
      "<class 'list'>\n",
      "100000\n",
      "<class 'list'>\n",
      "100000\n"
     ]
    }
   ],
   "source": [
    "# On dump filtered tokens\n",
    "print(type(filtered_tokens))\n",
    "print(len(filtered_tokens))\n",
    "\n",
    "with open('filtered_tokens.pkl', 'wb') as f:\n",
    "    pickle.dump(filtered_tokens, f)\n",
    "    \n",
    "    \n",
    "# On reload\n",
    "with open('filtered_tokens.pkl', 'rb') as f:\n",
    "    filtered_tokens = pickle.load(f)\n",
    "    \n",
    "print(type(filtered_tokens))\n",
    "print(len(filtered_tokens))"
   ]
  },
  {
   "cell_type": "markdown",
   "metadata": {},
   "source": [
    "Finalement, on crée une matrice de tf-idf, en incluant les bigrams.\n",
    "\n",
    "On veut fit en ensuite transform.\n",
    "\n",
    "On n'a pas de *train* et de *test*. On fait du unsupervised. Tout est dans le même bateau"
   ]
  },
  {
   "cell_type": "code",
   "execution_count": 39,
   "metadata": {},
   "outputs": [],
   "source": [
    "# dummy function that returns what it has been passed. \n",
    "# Je ne savais pas que l'on pouvait inclure un pre-processor et un tokenizer directement dans TfidfVectorizer\n",
    "\n",
    "def dummy_function(doc):\n",
    "    return doc"
   ]
  },
  {
   "cell_type": "code",
   "execution_count": 40,
   "metadata": {},
   "outputs": [
    {
     "name": "stdout",
     "output_type": "stream",
     "text": [
      "Wall time: 3.1 s\n"
     ]
    }
   ],
   "source": [
    "%%time\n",
    "# On commence sans bigram (le plus simple possible)\n",
    "\n",
    "\n",
    "# http://www.davidsbatista.net/blog/2018/02/28/TfidfVectorizer/\n",
    "\n",
    "\n",
    "# On crée l'instance du vectorizer\n",
    "tfidf = TfidfVectorizer(\n",
    "    analyzer='word',\n",
    "    tokenizer=dummy_function,\n",
    "    preprocessor=dummy_function,\n",
    "    token_pattern=None) \n",
    "\n",
    "# on fit\n",
    "tfidf.fit(filtered_tokens)\n",
    "\n",
    "# on transforme\n",
    "tfidf_mat= tfidf.transform(filtered_tokens)"
   ]
  },
  {
   "cell_type": "code",
   "execution_count": 41,
   "metadata": {},
   "outputs": [
    {
     "name": "stdout",
     "output_type": "stream",
     "text": [
      "(100000, 77440)\n",
      "100000\n",
      "77440\n"
     ]
    }
   ],
   "source": [
    "print(tfidf_mat.shape)\n",
    "print(len(filtered_tokens))\n",
    "print(len(tfidf.vocabulary_))"
   ]
  },
  {
   "cell_type": "markdown",
   "metadata": {},
   "source": [
    "On dump tfidf_mat pour df_sample et df_eng.\n",
    "\n",
    "**LOADING DES MATRICES TFIDF UNIGRAM**"
   ]
  },
  {
   "cell_type": "code",
   "execution_count": 42,
   "metadata": {},
   "outputs": [
    {
     "name": "stdout",
     "output_type": "stream",
     "text": [
      "(100000, 77440)\n"
     ]
    }
   ],
   "source": [
    "##################################################################################### df_sample\n",
    "#scipy.sparse.save_npz('tfidf_mat_sample.npz', tfidf_mat)\n",
    "#tfidf_mat= scipy.sparse.load_npz('tfidf_mat_sample.npz')\n",
    "#print(tfidf_mat.shape)\n",
    "\n",
    "\n",
    "##################################################################################### df_eng\n",
    "#scipy.sparse.save_npz('tfidf_mat_eng.npz', tfidf_mat)\n",
    "#tfidf_mat= scipy.sparse.load_npz('tfidf_mat_eng.npz')\n",
    "#print(tfidf_mat.shape)\n",
    "\n",
    "\n"
   ]
  },
  {
   "cell_type": "markdown",
   "metadata": {},
   "source": [
    "On peut maintenant utiliser la matrice *tfidf_mat* pour faire notre clustering. Chaque ligne de la matrice représente un tweet. Chaque colonne représente un mot dans notre vocabulaire. \n",
    "\n",
    "Notre vocabulaire est composé de 10 fois moins de mots que nous avons de tweets (lorsque l'on utilise df_sample). Donc en moyenne, nous avons environ un nouveau mot qui ne faisait pas déjà partie du vocabulaire par 10 tweets. \n",
    "\n",
    "**IL SERAIT INTÉRESSANT D'ALLER VOIR LE NOMBRE MOYEN DE FILTERED TOKEN PAR TWEET!!!**"
   ]
  },
  {
   "cell_type": "markdown",
   "metadata": {},
   "source": [
    "Avant de commencer à faire du clustering, faisons une autre matrice qui contient également les bigrams."
   ]
  },
  {
   "cell_type": "code",
   "execution_count": 43,
   "metadata": {},
   "outputs": [
    {
     "name": "stdout",
     "output_type": "stream",
     "text": [
      "Wall time: 12.3 s\n"
     ]
    }
   ],
   "source": [
    "%%time\n",
    "# On crée l'instance du vectorizer de bigram\n",
    "tfidf_bigram = TfidfVectorizer(\n",
    "    analyzer='word',\n",
    "    tokenizer=dummy_function,\n",
    "    preprocessor=dummy_function,\n",
    "    ngram_range=(1,2),\n",
    "    token_pattern=None) \n",
    "\n",
    "# on fit\n",
    "tfidf_bigram.fit(filtered_tokens)\n",
    "\n",
    "# on transforme\n",
    "tfidf_bigram_mat= tfidf_bigram.transform(filtered_tokens)"
   ]
  },
  {
   "cell_type": "code",
   "execution_count": 44,
   "metadata": {},
   "outputs": [
    {
     "name": "stdout",
     "output_type": "stream",
     "text": [
      "686253\n",
      "(100000, 686253)\n"
     ]
    }
   ],
   "source": [
    "print(len(tfidf_bigram.vocabulary_))\n",
    "print(tfidf_bigram_mat.shape)"
   ]
  },
  {
   "cell_type": "markdown",
   "metadata": {},
   "source": [
    "En ajoutant les bigrams, notre vocabulaire passe de 90 000 éléments à 760 000 éléments! (avec df_sample, nous n'avions pas encore enlever les digits et les signes de ponctuation dans le pre-processing)."
   ]
  },
  {
   "cell_type": "code",
   "execution_count": null,
   "metadata": {},
   "outputs": [],
   "source": [
    "# On explore un peu les idf\n",
    "plt.figure()\n",
    "plt.hist(tfidf.idf_, edgecolor='black')\n",
    "plt.show()\n",
    "\n",
    "\n",
    "# dans inv_idf, les keys sont des positions et les values sont des idf\n",
    "inv_idf = {v: k for k, v in tfidf.vocabulary_.items()}\n",
    "\n",
    "\n",
    "# trouver le mot avec idf le plus petit (le plus commun)\n",
    "print('Mot le plus commun')\n",
    "print(min(tfidf.idf_))\n",
    "print(np.argmin(tfidf.idf_))\n",
    "print(inv_idf[np.argmin(tfidf.idf_)])\n",
    "\n",
    "# trouver le mot avec idf le plus grand (le plus rare)\n",
    "print('\\nMot le plus rare')\n",
    "print(max(tfidf.idf_))\n",
    "print(np.argmax(tfidf.idf_))\n",
    "print(inv_idf[np.argmax(tfidf.idf_)])\n"
   ]
  },
  {
   "cell_type": "markdown",
   "metadata": {},
   "source": [
    "On dump tfidf_bigram_mat pour df_sampl et df_eng.\n",
    "\n",
    "**LOADING DES MATRICE TFIDF DE BIGRAMS**"
   ]
  },
  {
   "cell_type": "code",
   "execution_count": 45,
   "metadata": {},
   "outputs": [
    {
     "name": "stdout",
     "output_type": "stream",
     "text": [
      "(100000, 686253)\n"
     ]
    }
   ],
   "source": [
    "################################################################################ df_sample\n",
    "#scipy.sparse.save_npz('tfidf_bigram_mat_sample.npz', tfidf_bigram_mat)\n",
    "#tfidf_bigram_mat= scipy.sparse.load_npz('tfidf_bigram_mat_sample.npz')\n",
    "#print(tfidf_bigram_mat.shape)\n",
    "\n",
    "\n",
    "################################################################################ df_eng\n",
    "#scipy.sparse.save_npz('tfidf_bigram_mat_eng.npz', tfidf_bigram_mat)\n",
    "#tfidf_bigram_mat= scipy.sparse.load_npz('tfidf_bigram_mat_eng.npz')\n",
    "#print(tfidf_bigram_mat.shape)"
   ]
  },
  {
   "cell_type": "markdown",
   "metadata": {},
   "source": [
    "On dump tfidf et tfidf_bigram pour df_sample et df_engé\n",
    "\n",
    "**LOADING DES VECTORIZERS**"
   ]
  },
  {
   "cell_type": "code",
   "execution_count": 46,
   "metadata": {},
   "outputs": [],
   "source": [
    "#pickle.dump(tfidf, open(\"tfidf_sample.pickle\", \"wb\"))\n",
    "#pickle.dump(tfidf, open(\"tfidf_eng.pickle\", \"wb\"))\n",
    "#pickle.dump(tfidf_bigram, open(\"tfidf_sample_bigram.pickle\", \"wb\"))\n",
    "#pickle.dump(tfidf_bigram, open(\"tfidf_eng_bigram.pickle\", \"wb\"))\n",
    "\n",
    "\n",
    "\n",
    "\n",
    "\n",
    "\n",
    "################################################################### sample\n",
    "#with open(r\"tfidf_sample.pickle\", \"rb\") as input_file:\n",
    "#    tfidf = pickle.load(input_file)\n",
    "#    \n",
    "#with open(r\"tfidf_sample_bigram.pickle\", \"rb\") as input_file:\n",
    "#    tfidf_bigram = pickle.load(input_file)\n",
    "   \n",
    "#\n",
    "#################################################################### eng\n",
    "#with open(r\"tfidf_eng.pickle\", \"rb\") as input_file:\n",
    "#    tfidf = pickle.load(input_file)\n",
    "#    \n",
    "#with open(r\"tfidf_eng_bigram.pickle\", \"rb\") as input_file:\n",
    "#    tfidf_bigram = pickle.load(input_file)\n",
    "#\n",
    "#print(len(tfidf.idf_))\n",
    "#print(len(tfidf_bigram.idf_))"
   ]
  },
  {
   "cell_type": "code",
   "execution_count": null,
   "metadata": {},
   "outputs": [],
   "source": [
    "#inv_idf[120315]\n",
    "#print(tfidf.vocabulary_['marc'])\n",
    "#tfidf.idf_[220213]\n",
    "#inv_idf[220213]\n",
    "#print()"
   ]
  }
 ],
 "metadata": {
  "kernelspec": {
   "display_name": "Python 3",
   "language": "python",
   "name": "python3"
  },
  "language_info": {
   "codemirror_mode": {
    "name": "ipython",
    "version": 3
   },
   "file_extension": ".py",
   "mimetype": "text/x-python",
   "name": "python",
   "nbconvert_exporter": "python",
   "pygments_lexer": "ipython3",
   "version": "3.7.3"
  }
 },
 "nbformat": 4,
 "nbformat_minor": 2
}
